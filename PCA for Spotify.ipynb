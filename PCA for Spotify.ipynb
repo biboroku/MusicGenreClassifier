{
 "cells": [
  {
   "cell_type": "markdown",
   "id": "41f0f255",
   "metadata": {},
   "source": [
    "### 0.Import libraries"
   ]
  },
  {
   "cell_type": "code",
   "execution_count": 4,
   "id": "357e6f13",
   "metadata": {},
   "outputs": [],
   "source": [
    "# Import standard libraries\n",
    "import matplotlib.pyplot as plt\n",
    "%matplotlib inline\n",
    "import spotipy\n",
    "from spotipy.oauth2 import SpotifyClientCredentials\n",
    "import pandas as pd\n",
    "from datetime import datetime\n",
    "import numpy as np\n",
    "import seaborn as sns\n",
    "import plotly.express as px\n",
    "import math, os\n",
    "import random as rd\n",
    "\n",
    "# Import ML libraries\n",
    "from sklearn.decomposition import PCA\n",
    "from sklearn import preprocessing\n",
    "from sklearn.neighbors import KNeighborsClassifier\n",
    "from sklearn.model_selection import cross_val_score\n",
    "from sklearn.tree import DecisionTreeClassifier\n",
    "from sklearn import metrics"
   ]
  },
  {
   "cell_type": "markdown",
   "id": "54c41458",
   "metadata": {},
   "source": [
    "### 1.Define functions for data wrangling"
   ]
  },
  {
   "cell_type": "code",
   "execution_count": 17,
   "id": "0a1bf1b7",
   "metadata": {},
   "outputs": [],
   "source": [
    "def getSpotifyPlaylist(client_id, client_secret, url, genre):\n",
    "    \"\"\"\n",
    "    Main function that downloads a Spotify playlist as an Excel file with key features for each song via API calls\n",
    "    \"\"\"\n",
    "\n",
    "    #Set up API query with credentials\n",
    "    client_credentials_manager = SpotifyClientCredentials(client_id = client_id, client_secret = client_secret)\n",
    "    sp_query = spotipy.Spotify(client_credentials_manager=client_credentials_manager)\n",
    "    sp = spotipy.Spotify(\n",
    "                client_credentials_manager=SpotifyClientCredentials(\n",
    "                client_id=client_id,\n",
    "                client_secret=client_secret))\n",
    "\n",
    "    downloadPlaylistAsExcel(url, genre, sp)\n",
    "    \n",
    "def downloadPlaylistAsExcel(url, genre, sp):\n",
    "    \"\"\"Helper function that retrieves all songs from an identified playlist, and takes the ID, song, album, artist\n",
    "    and puts this all into a DataFrame\"\"\"\n",
    "\n",
    "   # SONG NAMES\n",
    "\n",
    "    offset=0\n",
    "    name = []\n",
    "\n",
    "    while True:\n",
    "        response = sp.playlist_tracks(url,\n",
    "                                      offset=offset,\n",
    "                                      fields=['items.track.name,total'])\n",
    "\n",
    "        name.append(response[\"items\"])\n",
    "        offset = offset + len(response['items'])\n",
    "       \n",
    "        if len(response['items']) == 0:\n",
    "            break\n",
    "\n",
    "    name_list = [b[\"track\"][\"name\"] for a in name for b in a]\n",
    "    len(name_list)\n",
    "   \n",
    "   \n",
    "\n",
    "    # ALBUM\n",
    "\n",
    "    offset=0\n",
    "    album = []\n",
    "\n",
    "    while True:\n",
    "        response = sp.playlist_tracks(url,\n",
    "                                      offset=offset,\n",
    "                                      fields=['items.track.album.name,total'])\n",
    "\n",
    "        album.append(response[\"items\"])\n",
    "        offset = offset + len(response['items'])\n",
    "       \n",
    "        if len(response['items']) == 0:\n",
    "            break\n",
    "\n",
    "    album_list = [b[\"track\"][\"album\"][\"name\"] for a in album for b in a]\n",
    "\n",
    "   \n",
    "   \n",
    "   # ARTIST\n",
    "\n",
    "    offset=0\n",
    "    artist = []\n",
    "\n",
    "    while True:\n",
    "        response = sp.playlist_tracks(url,\n",
    "                                      offset=offset,\n",
    "                                      fields=['items.track.album.artists.name,total'])\n",
    "\n",
    "        artist.append(response[\"items\"])\n",
    "        offset = offset + len(response['items'])\n",
    "       \n",
    "        if len(response['items']) == 0:\n",
    "            break\n",
    "\n",
    "    artist_list = [b[\"track\"][\"album\"][\"artists\"][0][\"name\"] for a in artist for b in a]\n",
    "\n",
    "   \n",
    "    # ID\n",
    "   \n",
    "    offset = 0\n",
    "    identifier = []\n",
    "\n",
    "    while True:\n",
    "        response = sp.playlist_tracks(url,\n",
    "                                      offset=offset,\n",
    "                                      fields=['items.track.id,total'])\n",
    "\n",
    "        identifier.append(response[\"items\"])\n",
    "        offset = offset + len(response['items'])\n",
    "       \n",
    "        if len(response['items']) == 0:\n",
    "            break\n",
    "\n",
    "    identifier_list= [b[\"track\"][\"id\"] for a in identifier for b in a]\n",
    "    len(identifier_list)\n",
    "\n",
    "    #Get audio features\n",
    "    features = [sp.audio_features(identifier) for identifier in identifier_list]\n",
    "   \n",
    "    # Get each invidividual feature\n",
    "    danceability = [(b[\"danceability\"]) for a in features for b in a]    \n",
    "    mode = [(b[\"mode\"]) for a in features for b in a]\n",
    "    energy = [(b[\"energy\"]) for a in features for b in a]\n",
    "    key = [(b[\"key\"]) for a in features for b in a]        \n",
    "    loudness = [(b[\"loudness\"]) for a in features for b in a]      \n",
    "    speechiness = [(b[\"speechiness\"]) for a in features for b in a]\n",
    "    acousticness = [(b[\"acousticness\"]) for a in features for b in a]        \n",
    "    instrumentalness = [(b[\"instrumentalness\"]) for a in features for b in a]\n",
    "    liveness = [(b[\"liveness\"]) for a in features for b in a]\n",
    "    valence = [(b[\"valence\"]) for a in features for b in a]        \n",
    "    tempo = [(b[\"tempo\"]) for a in features for b in a]\n",
    "    duration_ms = [(b[\"duration_ms\"]) for a in features for b in a]\n",
    "    identifier_ = [(b[\"id\"]) for a in features for b in a]\n",
    "   \n",
    "    ## DataFrame (saved with current time)\n",
    "\n",
    "    df = pd.DataFrame({\"Song name\": name_list, \"Artist\": artist_list, \"Album\": album_list, \"ID\": identifier_list})\n",
    "    df_2 = pd.DataFrame({\"Danceability\":danceability,\n",
    "                         \"Mode\":mode,\n",
    "                         \"Energy\":energy,\n",
    "                         \"Key\":key,\n",
    "                         \"Loudness\":loudness,\n",
    "                         \"Speechiness\":speechiness,\n",
    "                         \"Acousticness\":acousticness,\n",
    "                         \"Instrumentalness\":instrumentalness,\n",
    "                         \"Liveness\":liveness,\n",
    "                         \"Valence\":valence,\n",
    "                         \"Tempo\":tempo,\n",
    "                         \"Duration (ms)\": duration_ms,\n",
    "                         \"ID_CHECK\":identifier_\n",
    "                               })\n",
    "\n",
    "    df_combined = df_2.join(df)\n",
    "   \n",
    "    df_combined.to_excel(os.getcwd()+\"/\" + genre + \".xlsx\")\n",
    "\n",
    "    return df_combined.tail()"
   ]
  },
  {
   "cell_type": "markdown",
   "id": "237f1349",
   "metadata": {},
   "source": [
    "### 2. Define functions for Machine Learning Models"
   ]
  },
  {
   "cell_type": "code",
   "execution_count": 11,
   "id": "997921ca",
   "metadata": {},
   "outputs": [],
   "source": [
    "def trainKnnClassifier(dataFile1, dataFile2, n_neighbors):\n",
    "    '''\n",
    "    Main function that trains and tests a KNN classifier for two classes.\n",
    "    Returns the trained classifier.\n",
    "    '''\n",
    "    #Label the class of each genre where jazz=0, hiphop=1\n",
    "    labelled_data1 = pd.read_excel(dataFile1, index_col = 0, usecols=[0,1,2,3,4,5,6,7,8,9,10,11,12])\n",
    "    labelled_data2 = pd.read_excel(dataFile2, index_col = 0, usecols=[0,1,2,3,4,5,6,7,8,9,10,11,12])\n",
    "    labelled_data1[\"Class\"] = 0\n",
    "    labelled_data2[\"Class\"] = 1\n",
    "    \n",
    "    # concatenate and randomize the two data sets\n",
    "    data = [labelled_data1, labelled_data2]\n",
    "    full_data = pd.concat(data)\n",
    "    full_data[\"Key\"] = (full_data[\"Key\"] / full_data[\"Key\"].max())\n",
    "    full_data[\"Loudness\"] = (full_data[\"Loudness\"] / full_data[\"Loudness\"].min())\n",
    "    full_data[\"Tempo\"] = (full_data[\"Tempo\"] / full_data[\"Tempo\"].max())\n",
    "    \n",
    "    full_data_random = full_data.sample(frac=1)\n",
    "    \n",
    "    # Get training data with train-test split equals 70-30\n",
    "    rows = full_data_random.shape[0]\n",
    "    X_train = full_data_random.iloc[0:int(rows*0.7),:]\n",
    "    Y_train = X_train[\"Class\"].values\n",
    "    X_train = X_train.drop(\"Class\", axis=1)\n",
    "\n",
    "    # Get training data with train-test split equals 70-30\n",
    "    X_test = full_data_random.iloc[int(rows*0.7):,:]\n",
    "\n",
    "    # Randomize\n",
    "    X_test = X_test.sample(frac=1)\n",
    "    Y_test = X_test[\"Class\"].values\n",
    "    X_test = X_test.drop(\"Class\", axis=1)\n",
    "    \n",
    "    # Fit KNN model\n",
    "    knn = KNeighborsClassifier(n_neighbors=n_neighbors)\n",
    "\n",
    "    # cross validate\n",
    "    knn.fit(X_train, Y_train)\n",
    "    cv_scores = cross_val_score(knn, X_train, Y_train, cv=10)\n",
    "    cv_scores_mean = np.mean(cv_scores)\n",
    "    \n",
    "    # Test prediction\n",
    "    predictions = knn.predict(X_test)\n",
    "    accuracy_score = knn.score(X_test, Y_test)\n",
    "    print(\"Accuracy Score = \"\"{:.2f}\".format(accuracy_score))\n",
    "    confusion_matrix = metrics.confusion_matrix(Y_test, predictions)\n",
    "    print(\"Confusion Matrix: \\n\", confusion_matrix)\n",
    "    \n",
    "    return knn\n",
    "\n",
    "def trainDecisionTreeClassifier(dataFile1, dataFile2):\n",
    "    '''\n",
    "    Main function that trains and tests a decision tree classifier for two classes.\n",
    "    Returns the trained classifier.\n",
    "    '''\n",
    "    #Label the class of each genre where jazz=0, hiphop=1\n",
    "    labelled_data1 = pd.read_excel(dataFile1, index_col = 0, usecols=[0,1,2,3,4,5,6,7,8,9,10,11,12])\n",
    "    labelled_data2 = pd.read_excel(dataFile2, index_col = 0, usecols=[0,1,2,3,4,5,6,7,8,9,10,11,12])\n",
    "    labelled_data1[\"Class\"] = 0\n",
    "    labelled_data2[\"Class\"] = 1\n",
    "    \n",
    "    # concatenate and randomize the two data sets\n",
    "    data = [labelled_data1, labelled_data2]\n",
    "    full_data = pd.concat(data)\n",
    "    full_data[\"Key\"] = (full_data[\"Key\"] / full_data[\"Key\"].max())\n",
    "    full_data[\"Loudness\"] = (full_data[\"Loudness\"] / full_data[\"Loudness\"].min())\n",
    "    full_data[\"Tempo\"] = (full_data[\"Tempo\"] / full_data[\"Tempo\"].max())\n",
    "    \n",
    "    full_data_random = full_data.sample(frac=1)\n",
    "    \n",
    "    # Get training data with train-test split equals 70-30\n",
    "    rows = full_data_random.shape[0]\n",
    "    X_train = full_data_random.iloc[0:int(rows*0.7),:]\n",
    "    Y_train = X_train[\"Class\"].values\n",
    "    X_train = X_train.drop(\"Class\", axis=1)\n",
    "\n",
    "    # Get training data with train-test split equals 70-30\n",
    "    X_test = full_data_random.iloc[int(rows*0.7):,:]\n",
    "\n",
    "    # Randomize\n",
    "    X_test = X_test.sample(frac=1)\n",
    "    Y_test = X_test[\"Class\"].values\n",
    "    X_test = X_test.drop(\"Class\", axis=1)\n",
    "    \n",
    "    # Create Decision Tree classifier object\n",
    "    tree = DecisionTreeClassifier(criterion=\"gini\", splitter=\"best\")\n",
    "\n",
    "    # Train DecisionTreeClassifier\n",
    "    tree = tree.fit(X_train, Y_train)\n",
    "\n",
    "    # Predict the response for test dataset\n",
    "    Y_pred = tree.predict(X_test)\n",
    "    print(\"Accuracy Score = \", round(metrics.accuracy_score(Y_test, Y_pred), 2))\n",
    "    print(\"Confusion Matrix: \\n\", metrics.confusion_matrix(Y_test, Y_pred))\n",
    "\n",
    "    return tree"
   ]
  },
  {
   "cell_type": "code",
   "execution_count": 21,
   "id": "ae903bdf",
   "metadata": {},
   "outputs": [
    {
     "name": "stdout",
     "output_type": "stream",
     "text": [
      "Accuracy Score = 0.74\n",
      "Confusion Matrix: \n",
      " [[22  5]\n",
      " [ 6  9]]\n",
      "Accuracy Score =  0.83\n",
      "Confusion Matrix: \n",
      " [[23  2]\n",
      " [ 5 12]]\n"
     ]
    }
   ],
   "source": [
    "# Helper function to predict user input\n",
    "knn = trainKnnClassifier(os.getcwd()+\"/jazz.xlsx\", os.getcwd()+\"/hiphop.xlsx\", 5)\n",
    "tree = trainDecisionTreeClassifier(os.getcwd()+\"/jazz.xlsx\", os.getcwd()+\"/hiphop.xlsx\")\n",
    "\n",
    "def predictWithKnn(client_id, client_secret, playlist_url, genre=\"unknown\"):\n",
    "    '''\n",
    "    Function returns a prediction for the \n",
    "    '''\n",
    "    getSpotifyPlaylist(client_id, client_secret, playlist_url, genre)\n",
    "    input_data = pd.read_excel(os.getcwd()+\"/{}.xlsx\".format(genre), index_col = 0, usecols=[0,1,2,3,4,5,6,7,8,9,10,11,12])\n",
    "    predictions = knn.predict(input_data)\n",
    "    return predictions\n",
    "\n",
    "def predictWithTree(client_id, client_secret, playlist_url, genre=\"unknown\"):\n",
    "    '''\n",
    "    Function returns a prediction for the \n",
    "    '''\n",
    "    getSpotifyPlaylist(client_id, client_secret, playlist_url, genre)\n",
    "    input_data = pd.read_excel(os.getcwd()+\"/{}.xlsx\".format(genre), index_col = 0, usecols=[0,1,2,3,4,5,6,7,8,9,10,11,12])\n",
    "    predictions = tree.predict(input_data)\n",
    "    return predictions"
   ]
  },
  {
   "cell_type": "markdown",
   "id": "c46b87e7",
   "metadata": {},
   "source": [
    "### Testing Cells"
   ]
  },
  {
   "cell_type": "code",
   "execution_count": null,
   "id": "2e2681bf",
   "metadata": {},
   "outputs": [],
   "source": [
    "# Getting cell\n",
    "client_id = \"18c9fc89b70a4f2cbf50f362defb08c5\"\n",
    "client_secret = \"bb49d0616e014aa381c7cd66f1bbb487\"\n",
    "getSpotifyPlaylist(client_id, client_secret, url_jazz, \"jazz\")"
   ]
  },
  {
   "cell_type": "code",
   "execution_count": 12,
   "id": "7aea362f",
   "metadata": {},
   "outputs": [
    {
     "name": "stdout",
     "output_type": "stream",
     "text": [
      "Accuracy Score = 0.67\n",
      "Confusion Matrix: \n",
      " [[23  6]\n",
      " [ 8  5]]\n",
      "Accuracy Score =  0.95\n",
      "Confusion Matrix: \n",
      " [[23  2]\n",
      " [ 0 17]]\n"
     ]
    },
    {
     "data": {
      "text/html": [
       "<style>#sk-container-id-2 {color: black;background-color: white;}#sk-container-id-2 pre{padding: 0;}#sk-container-id-2 div.sk-toggleable {background-color: white;}#sk-container-id-2 label.sk-toggleable__label {cursor: pointer;display: block;width: 100%;margin-bottom: 0;padding: 0.3em;box-sizing: border-box;text-align: center;}#sk-container-id-2 label.sk-toggleable__label-arrow:before {content: \"▸\";float: left;margin-right: 0.25em;color: #696969;}#sk-container-id-2 label.sk-toggleable__label-arrow:hover:before {color: black;}#sk-container-id-2 div.sk-estimator:hover label.sk-toggleable__label-arrow:before {color: black;}#sk-container-id-2 div.sk-toggleable__content {max-height: 0;max-width: 0;overflow: hidden;text-align: left;background-color: #f0f8ff;}#sk-container-id-2 div.sk-toggleable__content pre {margin: 0.2em;color: black;border-radius: 0.25em;background-color: #f0f8ff;}#sk-container-id-2 input.sk-toggleable__control:checked~div.sk-toggleable__content {max-height: 200px;max-width: 100%;overflow: auto;}#sk-container-id-2 input.sk-toggleable__control:checked~label.sk-toggleable__label-arrow:before {content: \"▾\";}#sk-container-id-2 div.sk-estimator input.sk-toggleable__control:checked~label.sk-toggleable__label {background-color: #d4ebff;}#sk-container-id-2 div.sk-label input.sk-toggleable__control:checked~label.sk-toggleable__label {background-color: #d4ebff;}#sk-container-id-2 input.sk-hidden--visually {border: 0;clip: rect(1px 1px 1px 1px);clip: rect(1px, 1px, 1px, 1px);height: 1px;margin: -1px;overflow: hidden;padding: 0;position: absolute;width: 1px;}#sk-container-id-2 div.sk-estimator {font-family: monospace;background-color: #f0f8ff;border: 1px dotted black;border-radius: 0.25em;box-sizing: border-box;margin-bottom: 0.5em;}#sk-container-id-2 div.sk-estimator:hover {background-color: #d4ebff;}#sk-container-id-2 div.sk-parallel-item::after {content: \"\";width: 100%;border-bottom: 1px solid gray;flex-grow: 1;}#sk-container-id-2 div.sk-label:hover label.sk-toggleable__label {background-color: #d4ebff;}#sk-container-id-2 div.sk-serial::before {content: \"\";position: absolute;border-left: 1px solid gray;box-sizing: border-box;top: 0;bottom: 0;left: 50%;z-index: 0;}#sk-container-id-2 div.sk-serial {display: flex;flex-direction: column;align-items: center;background-color: white;padding-right: 0.2em;padding-left: 0.2em;position: relative;}#sk-container-id-2 div.sk-item {position: relative;z-index: 1;}#sk-container-id-2 div.sk-parallel {display: flex;align-items: stretch;justify-content: center;background-color: white;position: relative;}#sk-container-id-2 div.sk-item::before, #sk-container-id-2 div.sk-parallel-item::before {content: \"\";position: absolute;border-left: 1px solid gray;box-sizing: border-box;top: 0;bottom: 0;left: 50%;z-index: -1;}#sk-container-id-2 div.sk-parallel-item {display: flex;flex-direction: column;z-index: 1;position: relative;background-color: white;}#sk-container-id-2 div.sk-parallel-item:first-child::after {align-self: flex-end;width: 50%;}#sk-container-id-2 div.sk-parallel-item:last-child::after {align-self: flex-start;width: 50%;}#sk-container-id-2 div.sk-parallel-item:only-child::after {width: 0;}#sk-container-id-2 div.sk-dashed-wrapped {border: 1px dashed gray;margin: 0 0.4em 0.5em 0.4em;box-sizing: border-box;padding-bottom: 0.4em;background-color: white;}#sk-container-id-2 div.sk-label label {font-family: monospace;font-weight: bold;display: inline-block;line-height: 1.2em;}#sk-container-id-2 div.sk-label-container {text-align: center;}#sk-container-id-2 div.sk-container {/* jupyter's `normalize.less` sets `[hidden] { display: none; }` but bootstrap.min.css set `[hidden] { display: none !important; }` so we also need the `!important` here to be able to override the default hidden behavior on the sphinx rendered scikit-learn.org. See: https://github.com/scikit-learn/scikit-learn/issues/21755 */display: inline-block !important;position: relative;}#sk-container-id-2 div.sk-text-repr-fallback {display: none;}</style><div id=\"sk-container-id-2\" class=\"sk-top-container\"><div class=\"sk-text-repr-fallback\"><pre>DecisionTreeClassifier()</pre><b>In a Jupyter environment, please rerun this cell to show the HTML representation or trust the notebook. <br />On GitHub, the HTML representation is unable to render, please try loading this page with nbviewer.org.</b></div><div class=\"sk-container\" hidden><div class=\"sk-item\"><div class=\"sk-estimator sk-toggleable\"><input class=\"sk-toggleable__control sk-hidden--visually\" id=\"sk-estimator-id-2\" type=\"checkbox\" checked><label for=\"sk-estimator-id-2\" class=\"sk-toggleable__label sk-toggleable__label-arrow\">DecisionTreeClassifier</label><div class=\"sk-toggleable__content\"><pre>DecisionTreeClassifier()</pre></div></div></div></div></div>"
      ],
      "text/plain": [
       "DecisionTreeClassifier()"
      ]
     },
     "execution_count": 12,
     "metadata": {},
     "output_type": "execute_result"
    }
   ],
   "source": [
    "# Training cell\n",
    "trainKnnClassifier(os.getcwd()+\"/jazz.xlsx\", os.getcwd()+\"/hiphop.xlsx\", 5)\n",
    "trainDecisionTreeClassifier(os.getcwd()+\"/jazz.xlsx\", os.getcwd()+\"/hiphop.xlsx\")"
   ]
  },
  {
   "cell_type": "code",
   "execution_count": 22,
   "id": "2818d337",
   "metadata": {
    "scrolled": false
   },
   "outputs": [
    {
     "name": "stdout",
     "output_type": "stream",
     "text": [
      "[0 0 0 1 1 0 0 1 1 1 0 1 0 0 1 0 1 1 0 0 1 0 1 1 1 1 0 0 1 0 1 0 1 0 0 1 0\n",
      " 1 1 0 1 0 1 0 0 1]\n",
      "[0 0 1 0 1 0 1 0 0 0 1 1 1 0 1 1 0 1 1 1 1 1 1 1 0 0 1 0 1 0 0 1 1 1 1 1 1\n",
      " 1 0 1 1 0 1 0 1 1]\n"
     ]
    }
   ],
   "source": [
    "client_id = \"18c9fc89b70a4f2cbf50f362defb08c5\"\n",
    "client_secret = \"bb49d0616e014aa381c7cd66f1bbb487\"\n",
    "test_playlist = \"spotify:playlist:7huC1KVUJP8lmiBglqrwUh\"\n",
    "print(predictWithKnn(client_id, client_secret, test_playlist))\n",
    "print(predictWithTree(client_id, client_secret, test_playlist))"
   ]
  },
  {
   "cell_type": "markdown",
   "id": "7ea9576e",
   "metadata": {},
   "source": [
    "### PCA Data Alalysis"
   ]
  },
  {
   "cell_type": "code",
   "execution_count": 44,
   "id": "51ac7c88",
   "metadata": {},
   "outputs": [],
   "source": [
    "jazz = jazz_data.iloc[:, 0:12]\n",
    "hiphop = hiphop_data.iloc[:, 0:12]\n",
    "#standardize\n",
    "scaled_jazz = preprocessing.scale(jazz.to_numpy().T)\n",
    "scaled_hiphop = preprocessing.scale(hiphop.to_numpy().T)"
   ]
  },
  {
   "cell_type": "code",
   "execution_count": 45,
   "id": "11e8f27d",
   "metadata": {},
   "outputs": [
    {
     "data": {
      "image/png": "[encoded data removed]",
      "text/plain": [
       "<Figure size 640x480 with 1 Axes>"
      ]
     },
     "metadata": {},
     "output_type": "display_data"
    }
   ],
   "source": [
    "#共分散 Create bar chart for PC to compare % of caruance expla\n",
    "pca = PCA()\n",
    "\n",
    "pca.fit(scaled_jazz)\n",
    "pca_data = pca.transform(scaled_jazz)\n",
    "\n",
    "per_var = np.round(pca.explained_variance_ratio_*100, decimals = 1)\n",
    "labels = ['PC' + str(x) for x in range(1, len(per_var)+1)]\n",
    "\n",
    "# write code to plot the bar chart\n",
    "plt.bar(x=range(1,len(per_var)+1), height=per_var, tick_label=labels)\n",
    "plt.ylabel('Percentage of Explained Variance')\n",
    "plt.xlabel('PC')\n",
    "plt.show()"
   ]
  },
  {
   "cell_type": "code",
   "execution_count": 46,
   "id": "577e883c",
   "metadata": {},
   "outputs": [
    {
     "data": {
      "image/png": "[encoded data removed]",
      "text/plain": [
       "<Figure size 640x480 with 1 Axes>"
      ]
     },
     "metadata": {},
     "output_type": "display_data"
    }
   ],
   "source": [
    "#共分散 Create bar chart for PC to compare % of caruance expla\n",
    "pca = PCA()\n",
    "\n",
    "pca.fit(scaled_hiphop)\n",
    "pca_data = pca.transform(scaled_hiphop)\n",
    "\n",
    "per_var = np.round(pca.explained_variance_ratio_*100, decimals = 1)\n",
    "labels = ['PC' + str(x) for x in range(1, len(per_var)+1)]\n",
    "\n",
    "# write code to plot the bar chart\n",
    "plt.bar(x=range(1,len(per_var)+1), height=per_var, tick_label=labels)\n",
    "plt.ylabel('Percentage of Explained Variance')\n",
    "plt.xlabel('PC')\n",
    "plt.show()"
   ]
  },
  {
   "cell_type": "code",
   "execution_count": 47,
   "id": "7b026969",
   "metadata": {},
   "outputs": [
    {
     "name": "stdout",
     "output_type": "stream",
     "text": [
      "explained_variance = [0.28227351 0.13526036 0.12365664 0.09544909 0.08034799 0.06649995\n",
      " 0.05975443 0.05766629 0.04373863 0.02771936 0.0199009  0.00773286]\n",
      "eigenvector_loadings = [17.36283691 12.01907107 11.49196639 10.09651542  9.26345773  8.42745199\n",
      "  7.98859991  7.84777675  6.83468032  5.44098139  4.61022353  2.87379384]\n"
     ]
    }
   ],
   "source": [
    "#Jazz\n",
    "df = pd.read_excel(os.getcwd()+\"/jazz.xlsx\", index_col = 0)\n",
    "df_scaled = pd.DataFrame()\n",
    "\n",
    "for col in df.loc[:, \"Danceability\":\"Duration (ms)\"]:\n",
    "    df_scaled[col] = (df[col] - df[col].mean()) / df[col].std()\n",
    "df_scaled\n",
    "\n",
    "#ini\n",
    "pca_series = PCA(n_components = len(df_scaled.columns))\n",
    "\n",
    "#fit\n",
    "pca_series = pca.fit_transform(df_scaled).T\n",
    "\n",
    "df_pca = pd.DataFrame({\"PC1\": pca_series[0], \"PC2\":pca_series[1]})\n",
    "df_pca.to_excel(os.getcwd() + '/pca' + 'jazz'+'.xlsx')\n",
    "\n",
    "explained_variance = pca.explained_variance_ratio_\n",
    "print(\"explained_variance = {}\" .format(explained_variance))\n",
    "\n",
    "eigenvector_loadings = pca.singular_values_\n",
    "print(\"eigenvector_loadings = {}\" .format(eigenvector_loadings))"
   ]
  },
  {
   "cell_type": "code",
   "execution_count": 48,
   "id": "e225d306",
   "metadata": {},
   "outputs": [
    {
     "name": "stdout",
     "output_type": "stream",
     "text": [
      "explained_variance = [0.21419766 0.16451774 0.14735793 0.10723554 0.07853977 0.06786273\n",
      " 0.05509527 0.04480117 0.04348072 0.03872761 0.02540323 0.01278063]\n",
      "eigenvector_loadings = [11.2226657   9.83546805  9.30840822  7.94068613  6.79568874  6.31690486\n",
      "  5.69175011  5.1325519   5.05634888  4.77198411  3.86485416  2.74135157]\n"
     ]
    }
   ],
   "source": [
    "#Hiphop\n",
    "df = pd.read_excel(os.getcwd()+\"/hiphop.xlsx\", index_col = 0)\n",
    "df_scaled = pd.DataFrame()\n",
    "\n",
    "for col in df.loc[:, \"Danceability\":\"Duration (ms)\"]:\n",
    "    df_scaled[col] = (df[col] - df[col].mean()) / df[col].std()\n",
    "df_scaled\n",
    "\n",
    "#ini\n",
    "pca_series = PCA(n_components = len(df_scaled.columns))\n",
    "\n",
    "#fit\n",
    "pca_series = pca.fit_transform(df_scaled).T\n",
    "\n",
    "df_pca = pd.DataFrame({\"PC1\": pca_series[0], \"PC2\":pca_series[1]})\n",
    "df_pca.to_excel(os.getcwd() + '/pca' + 'hiphop'+'.xlsx')\n",
    "\n",
    "explained_variance = pca.explained_variance_ratio_\n",
    "print(\"explained_variance = {}\" .format(explained_variance))\n",
    "\n",
    "eigenvector_loadings = pca.singular_values_\n",
    "print(\"eigenvector_loadings = {}\" .format(eigenvector_loadings))"
   ]
  },
  {
   "cell_type": "code",
   "execution_count": 49,
   "id": "8f802f06",
   "metadata": {},
   "outputs": [
    {
     "data": {
      "text/plain": [
       "<matplotlib.legend.Legend at 0x20fc7731d50>"
      ]
     },
     "execution_count": 49,
     "metadata": {},
     "output_type": "execute_result"
    },
    {
     "data": {
      "image/png": "[encoded data removed]",
      "text/plain": [
       "<Figure size 1000x1000 with 1 Axes>"
      ]
     },
     "metadata": {},
     "output_type": "display_data"
    }
   ],
   "source": [
    "# Plot PCA of both components for Jazz and Hiphop songs\n",
    "\n",
    "fig = plt.figure(figsize=(10,10))\n",
    "ax = fig.add_subplot(111)\n",
    "\n",
    "ax.set_xlabel(\"First PC\", fontsize = 15)\n",
    "ax.set_ylabel(\"Second PC\", fontsize = 15)\n",
    "ax.set_title(\"PCs of both genres\", fontsize = 18)\n",
    "\n",
    "jazz_components = pd.read_excel(os.getcwd()+\"/pcajazz.xlsx\", index_col=0)\n",
    "hiphop_components = pd.read_excel(os.getcwd()+\"/pcahiphop.xlsx\", index_col=0)\n",
    "\n",
    "ax = plt.scatter(x = jazz_components[\"PC1\"], y = jazz_components[\"PC2\"], label=\"Jazz\", color=\"blue\")\n",
    "ax = plt.scatter(x = hiphop_components[\"PC1\"], y = hiphop_components[\"PC2\"], label=\"Hiphop\", color=\"red\")\n",
    "#plt.xlim(-200000,300000)\n",
    "\n",
    "plt.grid(True)\n",
    "plt.legend(prop = {\"size\":18}, loc=\"upper right\")"
   ]
  }
 ],
 "metadata": {
  "kernelspec": {
   "display_name": "Python 3 (ipykernel)",
   "language": "python",
   "name": "python3"
  },
  "language_info": {
   "codemirror_mode": {
    "name": "ipython",
    "version": 3
   },
   "file_extension": ".py",
   "mimetype": "text/x-python",
   "name": "python",
   "nbconvert_exporter": "python",
   "pygments_lexer": "ipython3",
   "version": "3.10.9"
  }
 },
 "nbformat": 4,
 "nbformat_minor": 5
}
